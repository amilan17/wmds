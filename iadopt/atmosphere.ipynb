{
 "cells": [
  {
   "cell_type": "markdown",
   "metadata": {},
   "source": []
  },
  {
   "cell_type": "code",
   "execution_count": null,
   "metadata": {},
   "outputs": [],
   "source": [
    "import polars as pl\n",
    "import requests\n",
    "from io import StringIO\n",
    "from rdflib import Graph\n",
    "import os\n",
    "\n",
    "def read_rdf_from_url(url: str) -> pl.DataFrame:\n",
    "    \"\"\"Fetch JSON-LD or RDF data from a URL and convert it to a polars DataFrame.\"\"\"\n",
    "\n",
    "    # Fetch RDF/JSON-LD data from the URL\n",
    "    response = requests.get(url)\n",
    "    response.raise_for_status()  # Raise an error for failed requests\n",
    "\n",
    "    # Load into rdflib Graph\n",
    "    g = Graph()\n",
    "    g.parse(data=response.text, format=\"json-ld\")  # Try JSON-LD format first\n",
    "\n",
    "    # Convert RDF triples to a list of dictionaries\n",
    "    data = [{\"subject\": str(s), \"predicate\": str(p), \"object\": str(o)} for s, p, o in g]\n",
    "\n",
    "    # Convert to Polars DataFrame\n",
    "    return pl.DataFrame(data)\n",
    "\n",
    "def read_csv_from_url(url: str) -> pl.DataFrame:\n",
    "    \"\"\"Read a CSV file from a URL into a polars DataFrame.\"\"\"\n",
    "    response = requests.get(url)\n",
    "    response.raise_for_status()  # Raise an error for failed requests\n",
    "    csv_data = StringIO(response.text)\n",
    "    return pl.read_csv(csv_data)\n",
    "\n",
    "# Create folder structure\n",
    "folders = [\"mappings\", \"model\", \"resources\", \"wmdr2\", \"temp\"]\n",
    "for folder in folders:\n",
    "    os.makedirs(folder, exist_ok=True)"
   ]
  },
  {
   "cell_type": "code",
   "execution_count": null,
   "metadata": {},
   "outputs": [],
   "source": [
    "# Retrieve code tables from codes.wmo.int/wmdr\n",
    "# ObservedVariableAtmosphere types\n",
    "url = \"https://codes.wmo.int/wmdr/ObservedVariableAtmosphere?_format=csv&status=valid\"\n",
    "df_wmdr_ObservedVariableAtmosphere = read_csv_from_url(url)\n",
    "df_wmdr_ObservedVariableAtmosphere.write_csv(file=\"resources/wmdr_observed_variable_atmosphere.csv\")\n",
    "\n",
    "# Domain types\n",
    "url = \"https://codes.wmo.int/wmdr/Domain?_format=csv&status=valid\"\n",
    "df_wmdr_Domain = read_csv_from_url(url)\n",
    "df_wmdr_Domain.write_csv(file=\"resources/wmdr_domain.csv\")\n",
    "\n",
    "# Geometry types\n",
    "url = \"https://codes.wmo.int/wmdr/Geometry?_format=csv&status=valid\"\n",
    "df_wmdr_Geometry = read_csv_from_url(url)\n",
    "df_wmdr_Geometry.write_csv(file=\"resources/wmdr_geometry.csv\")\n",
    "\n",
    "# Matrix types\n",
    "url = \"https://codes.wmo.int/wmdr/Matrix?_format=csv&status=valid\"\n",
    "df_wmdr_Matrix = read_csv_from_url(url)\n",
    "df_wmdr_Matrix.write_csv(file=\"resources/wmdr_matrix.csv\")"
   ]
  },
  {
   "cell_type": "code",
   "execution_count": null,
   "metadata": {},
   "outputs": [],
   "source": [
    "# I-ADOPT model (cf. https://umltool.ogc.org/index.php?m=7&o=2F3BC921-1482-4aab-B393-5FFDB6186EA9)\n",
    "# classes\n",
    "df_iadopt_classes = pl.DataFrame({\n",
    "    \"id\": [1,2,3,4,5,],\n",
    "    \"name\": [\"Variable\", \"Property\", \"Entity\", \"Constraint\", \"VariableSet\",],\n",
    "})\n",
    "df_iadopt_classes.write_csv(file=\"model/iadopt_class.csv\")\n",
    "\n",
    "# entity roles\n",
    "df_iadopt_roles = pl.DataFrame({\n",
    "    \"id\": [1,2,3,4,],\n",
    "    \"name\": ['unclear','object_of_interest','matrix','context',],\n",
    "    \"value\": [None,1,2,4,],\n",
    "    })\n",
    "df_iadopt_roles.write_csv(file=\"model/iadopt_role.csv\")\n"
   ]
  },
  {
   "cell_type": "code",
   "execution_count": null,
   "metadata": {},
   "outputs": [],
   "source": [
    "# Disaggregate existing WMDR ObservedVariableAtmosphere types using the mappings as suggested by Morgan and Gao, March 2025\n",
    "df_mapping = pl.read_csv(\"mappings/WMDR_ObservedVariableAtmosphere_IADOPT_mapping_v01.csv\")\n",
    "df_mapping = df_mapping.drop([\"SeqNum\", \"@id\", \"@notation\", \"@status\", \"dct:description\", \"rdf:type\", \"rdfs:label\"])\n",
    "df_mapping.schema\n",
    "\n",
    "df = pl.concat([df_wmdr_ObservedVariableAtmosphere, df_mapping], how=\"align\")\n",
    "display(df.head())"
   ]
  },
  {
   "cell_type": "code",
   "execution_count": null,
   "metadata": {},
   "outputs": [],
   "source": [
    "# Convert 'I-ADOPT Type' to various role columns for further treatment\n",
    "df = df.with_columns(\n",
    "    pl.col('I-ADOPT Type').str.contains(\"OoI\").alias(\"has_ooi\"),\n",
    "    pl.col('I-ADOPT Type').str.contains(\"Property\").alias(\"has_property\"),\n",
    ")\n",
    "df = df.drop([\"@id\", \"rdf:type\", \"I-ADOPT Type\", \"OoI\"])\n",
    "df.describe()"
   ]
  },
  {
   "cell_type": "code",
   "execution_count": null,
   "metadata": {},
   "outputs": [],
   "source": [
    "# Extract information from the df dataframe, but leave additional columns ntouched for now. Eventually, the notations will be removed and new ones coined.\n",
    "\n",
    "# extract OoI\n",
    "df_wmdr2_object_of_interest_types = df.filter((pl.col('has_ooi')==True) & (pl.col(\"has_property\")==False))\n",
    "df_wmdr_object_of_interest_types = df_wmdr2_object_of_interest_types.drop([\"has_ooi\", \"has_property\", \"Property\"])\n",
    "display(df_wmdr2_object_of_interest_types.head())\n",
    "df_wmdr2_object_of_interest_types.write_csv(\"temp/wmdr2_object_of_interest.csv\")\n",
    "\n",
    "# extract property\n",
    "df_wmdr2_property_types = df.filter((pl.col('has_ooi')==False) & (pl.col(\"has_property\")==True))\n",
    "df_wmdr2_property_types = df_wmdr2_property_types.drop([\"has_ooi\", \"has_property\"])\n",
    "display(df_wmdr2_property_types.head())\n",
    "df_wmdr2_property_types.write_csv(file=\"temp/wmdr2_property.csv\")\n",
    "\n",
    "# extract *mixed* types. These will need to be addressed manually\n",
    "df_wmdr2_mixed_types =  df.filter(\n",
    "    ((pl.col('has_ooi')==True) & (pl.col(\"has_property\")==True))\n",
    "    | ((pl.col('has_ooi')==False) & (pl.col(\"has_property\")==False)))\n",
    "display(df_wmdr2_mixed_types.head())\n",
    "df_wmdr2_mixed_types.write_csv(file=\"temp/wmdr2_mixed.csv\")"
   ]
  },
  {
   "cell_type": "code",
   "execution_count": null,
   "metadata": {},
   "outputs": [],
   "source": [
    "# Retrieve vocabularies from ACTRIS\n",
    "# property types\n",
    "url = \"https://vocabulary.actris.nilu.no/skosmos/rest/v1/actris_vocab/data?uri=https%3A%2F%2Fvocabulary.actris.nilu.no%2Factris_vocab%2Fvariablepropertyofinterest&format=application/ld%2Bjson\"\n",
    "df_actris_property_types = read_rdf_from_url(url)\n",
    "df_actris_property_types.write_csv(file=\"resources/actris_property.csv\")\n",
    "\n",
    "# object_of_interest types\n",
    "url = \"https://vocabulary.actris.nilu.no/skosmos/rest/v1/actris_vocab/data?uri=https%3A%2F%2Fvocabulary.actris.nilu.no%2Factris_vocab%2Fobjectofinterest&format=application/ld%2Bjson\"\n",
    "df_actris_object_of_interest_types = read_rdf_from_url(url)\n",
    "df_actris_object_of_interest_types.write_csv(file=\"resources/actris_object_of_interest.csv\")\n",
    "\n",
    "# (observation) geometry types\n",
    "url = \"https://vocabulary.actris.nilu.no/skosmos/rest/v1/actris_vocab/data?uri=https%3A%2F%2Fvocabulary.actris.nilu.no%2Factris_vocab%2Fvariablegeometry&format=application/ld%2Bjson\"\n",
    "df_actris_geometry_types = read_rdf_from_url(url)\n",
    "df_actris_geometry_types.write_csv(file=\"resources/actris_geometry.csv\")\n",
    "\n",
    "# matrix types\n",
    "url = \"https://vocabulary.actris.nilu.no/skosmos/rest/v1/actris_vocab/data?uri=https%3A%2F%2Fvocabulary.actris.nilu.no%2Factris_vocab%2Fvariablematrix&format=application/ld%2Bjson\"\n",
    "df_actris_matrix_types = read_rdf_from_url(url)\n",
    "df_actris_matrix_types.write_csv(file=\"resources/actris_matrix.csv\")\n",
    "\n",
    "# variable constraint types\n",
    "url = \"https://vocabulary.actris.nilu.no/skosmos/rest/v1/actris_vocab/data?uri=https%3A%2F%2Fvocabulary.actris.nilu.no%2Factris_vocab%2Fvariableconstraints&format=application/ld%2Bjson\"\n",
    "df_actris_constraint_types = read_rdf_from_url(url)\n",
    "df_actris_constraint_types.write_csv(file=\"resources/actris_constraint.csv\")\n",
    "\n",
    "# variable group types\n",
    "url = \"https://vocabulary.actris.nilu.no/skosmos/rest/v1/actris_vocab/data?uri=https%3A%2F%2Fvocabulary.actris.nilu.no%2Factris_vocab%2Fvariablegroup&format=application/ld%2Bjson\"\n",
    "df_actris_variable_group_types = read_rdf_from_url(ur)\n",
    "df_actris_variable_group_types.write_csv(file=\"resources/actris_variable_group.csv\")"
   ]
  }
 ],
 "metadata": {
  "kernelspec": {
   "display_name": ".venv",
   "language": "python",
   "name": "python3"
  },
  "language_info": {
   "codemirror_mode": {
    "name": "ipython",
    "version": 3
   },
   "file_extension": ".py",
   "mimetype": "text/x-python",
   "name": "python",
   "nbconvert_exporter": "python",
   "pygments_lexer": "ipython3",
   "version": "3.12.3"
  }
 },
 "nbformat": 4,
 "nbformat_minor": 2
}
